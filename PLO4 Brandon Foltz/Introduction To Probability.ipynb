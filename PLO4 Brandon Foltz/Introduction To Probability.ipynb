{
 "cells": [
  {
   "cell_type": "code",
   "execution_count": 19,
   "metadata": {},
   "outputs": [
    {
     "data": {
      "text/plain": [
       "['app',\n",
       " 'apl',\n",
       " 'ape',\n",
       " 'app',\n",
       " 'apl',\n",
       " 'ape',\n",
       " 'alp',\n",
       " 'alp',\n",
       " 'ale',\n",
       " 'aep',\n",
       " 'aep',\n",
       " 'ael',\n",
       " 'pap',\n",
       " 'pal',\n",
       " 'pae',\n",
       " 'ppa',\n",
       " 'ppl',\n",
       " 'ppe',\n",
       " 'pla',\n",
       " 'plp',\n",
       " 'ple',\n",
       " 'pea',\n",
       " 'pep',\n",
       " 'pel',\n",
       " 'pap',\n",
       " 'pal',\n",
       " 'pae',\n",
       " 'ppa',\n",
       " 'ppl',\n",
       " 'ppe',\n",
       " 'pla',\n",
       " 'plp',\n",
       " 'ple',\n",
       " 'pea',\n",
       " 'pep',\n",
       " 'pel',\n",
       " 'lap',\n",
       " 'lap',\n",
       " 'lae',\n",
       " 'lpa',\n",
       " 'lpp',\n",
       " 'lpe',\n",
       " 'lpa',\n",
       " 'lpp',\n",
       " 'lpe',\n",
       " 'lea',\n",
       " 'lep',\n",
       " 'lep',\n",
       " 'eap',\n",
       " 'eap',\n",
       " 'eal',\n",
       " 'epa',\n",
       " 'epp',\n",
       " 'epl',\n",
       " 'epa',\n",
       " 'epp',\n",
       " 'epl',\n",
       " 'ela',\n",
       " 'elp',\n",
       " 'elp']"
      ]
     },
     "execution_count": 19,
     "metadata": {},
     "output_type": "execute_result"
    }
   ],
   "source": [
    "from itertools import permutations,combinations\n",
    "\n",
    "#for i in permutations('apple'):\n",
    "x = [''.join(i) for i in permutations('apple',3)]\n",
    "y = [''.join(i) for i in combinations('apple',2)]\n",
    "x"
   ]
  },
  {
   "cell_type": "markdown",
   "metadata": {},
   "source": [
    " ### Combinations\n",
    " "
   ]
  },
  {
   "cell_type": "code",
   "execution_count": 3,
   "metadata": {},
   "outputs": [
    {
     "name": "stdout",
     "output_type": "stream",
     "text": [
      "120\n"
     ]
    }
   ],
   "source": [
    "def factorial(x):\n",
    "    fact = 1\n",
    "    for i in range(1,x+1):\n",
    "        fact = fact *i\n",
    "    return fact\n",
    "print(factorial(5))"
   ]
  },
  {
   "cell_type": "code",
   "execution_count": 5,
   "metadata": {},
   "outputs": [],
   "source": [
    "def combination(n,r):\n",
    "    return factorial(n)/(factorial(r) * factorial(n-r))"
   ]
  },
  {
   "cell_type": "code",
   "execution_count": 7,
   "metadata": {},
   "outputs": [],
   "source": [
    "def permutation(n,r):\n",
    "    return factorial(n)/factorial(n-r)"
   ]
  },
  {
   "cell_type": "code",
   "execution_count": 8,
   "metadata": {},
   "outputs": [
    {
     "name": "stdout",
     "output_type": "stream",
     "text": [
      "2042975.0\n"
     ]
    }
   ],
   "source": [
    "print(combination(25,9))"
   ]
  },
  {
   "cell_type": "code",
   "execution_count": null,
   "metadata": {},
   "outputs": [],
   "source": [
    "print(permutation())"
   ]
  }
 ],
 "metadata": {
  "kernelspec": {
   "display_name": "Python 3",
   "language": "python",
   "name": "python3"
  },
  "language_info": {
   "codemirror_mode": {
    "name": "ipython",
    "version": 3
   },
   "file_extension": ".py",
   "mimetype": "text/x-python",
   "name": "python",
   "nbconvert_exporter": "python",
   "pygments_lexer": "ipython3",
   "version": "3.7.6"
  }
 },
 "nbformat": 4,
 "nbformat_minor": 4
}
