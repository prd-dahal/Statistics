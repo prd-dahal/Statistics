{
 "cells": [
  {
   "cell_type": "code",
   "execution_count": 1,
   "metadata": {},
   "outputs": [
    {
     "data": {
      "text/plain": [
       "['app',\n",
       " 'apl',\n",
       " 'ape',\n",
       " 'app',\n",
       " 'apl',\n",
       " 'ape',\n",
       " 'alp',\n",
       " 'alp',\n",
       " 'ale',\n",
       " 'aep',\n",
       " 'aep',\n",
       " 'ael',\n",
       " 'pap',\n",
       " 'pal',\n",
       " 'pae',\n",
       " 'ppa',\n",
       " 'ppl',\n",
       " 'ppe',\n",
       " 'pla',\n",
       " 'plp',\n",
       " 'ple',\n",
       " 'pea',\n",
       " 'pep',\n",
       " 'pel',\n",
       " 'pap',\n",
       " 'pal',\n",
       " 'pae',\n",
       " 'ppa',\n",
       " 'ppl',\n",
       " 'ppe',\n",
       " 'pla',\n",
       " 'plp',\n",
       " 'ple',\n",
       " 'pea',\n",
       " 'pep',\n",
       " 'pel',\n",
       " 'lap',\n",
       " 'lap',\n",
       " 'lae',\n",
       " 'lpa',\n",
       " 'lpp',\n",
       " 'lpe',\n",
       " 'lpa',\n",
       " 'lpp',\n",
       " 'lpe',\n",
       " 'lea',\n",
       " 'lep',\n",
       " 'lep',\n",
       " 'eap',\n",
       " 'eap',\n",
       " 'eal',\n",
       " 'epa',\n",
       " 'epp',\n",
       " 'epl',\n",
       " 'epa',\n",
       " 'epp',\n",
       " 'epl',\n",
       " 'ela',\n",
       " 'elp',\n",
       " 'elp']"
      ]
     },
     "execution_count": 1,
     "metadata": {},
     "output_type": "execute_result"
    }
   ],
   "source": [
    "from itertools import permutations,combinations\n",
    "\n",
    "#for i in permutations('apple'):\n",
    "x = [''.join(i) for i in permutations('apple',3)]\n",
    "y = [''.join(i) for i in combinations('apple',2)]\n",
    "x"
   ]
  },
  {
   "cell_type": "markdown",
   "metadata": {},
   "source": [
    " ### Combinations\n",
    " "
   ]
  },
  {
   "cell_type": "code",
   "execution_count": 2,
   "metadata": {},
   "outputs": [
    {
     "name": "stdout",
     "output_type": "stream",
     "text": [
      "120\n"
     ]
    }
   ],
   "source": [
    "def factorial(x):\n",
    "    fact = 1\n",
    "    for i in range(1,x+1):\n",
    "        fact = fact *i\n",
    "    return fact\n",
    "print(factorial(5))\n",
    "\n"
   ]
  },
  {
   "cell_type": "code",
   "execution_count": 3,
   "metadata": {},
   "outputs": [],
   "source": [
    "def combination(n,r):\n",
    "    return factorial(n)/(factorial(r) * factorial(n-r))"
   ]
  },
  {
   "cell_type": "code",
   "execution_count": 4,
   "metadata": {},
   "outputs": [],
   "source": [
    "def permutation(n,r):\n",
    "    return factorial(n)/factorial(n-r)"
   ]
  },
  {
   "cell_type": "code",
   "execution_count": 5,
   "metadata": {},
   "outputs": [
    {
     "name": "stdout",
     "output_type": "stream",
     "text": [
      "2042975.0\n"
     ]
    }
   ],
   "source": [
    "print(combination(25,9))"
   ]
  },
  {
   "cell_type": "code",
   "execution_count": 6,
   "metadata": {},
   "outputs": [
    {
     "name": "stdout",
     "output_type": "stream",
     "text": [
      "741354768000.0\n"
     ]
    }
   ],
   "source": [
    "print(permutation(25,9))"
   ]
  },
  {
   "cell_type": "code",
   "execution_count": 7,
   "metadata": {},
   "outputs": [
    {
     "name": "stdout",
     "output_type": "stream",
     "text": [
      "396.0\n"
     ]
    }
   ],
   "source": [
    "print(combination(4,2)*combination(12,2))"
   ]
  },
  {
   "cell_type": "code",
   "execution_count": 8,
   "metadata": {},
   "outputs": [],
   "source": [
    "import matplotlib.pyplot as plt"
   ]
  },
  {
   "cell_type": "code",
   "execution_count": 9,
   "metadata": {},
   "outputs": [
    {
     "data": {
      "image/png": "[encoded data removed]",
      "text/plain": [
       "<Figure size 432x288 with 1 Axes>"
      ]
     },
     "metadata": {
      "needs_background": "light"
     },
     "output_type": "display_data"
    }
   ],
   "source": [
    "def plot_combination(n):\n",
    "    plot_value = []\n",
    "    for i in range(n+1):\n",
    "        plot_value.append(combination(n,i))\n",
    "#     print(plot_value)\n",
    "    plt.plot(plot_value)\n",
    "plot_combination(100)"
   ]
  },
  {
   "cell_type": "code",
   "execution_count": 10,
   "metadata": {},
   "outputs": [
    {
     "name": "stdout",
     "output_type": "stream",
     "text": [
      "4.0\n",
      "6.0\n",
      "24\n"
     ]
    }
   ],
   "source": [
    " print(combination(4,3))\n",
    "print(combination(4,2))\n",
    "print(6*4)"
   ]
  },
  {
   "cell_type": "code",
   "execution_count": 14,
   "metadata": {
    "scrolled": true
   },
   "outputs": [
    {
     "data": {
      "text/plain": [
       "<matplotlib_venn._common.VennDiagram at 0x2116a5bb888>"
      ]
     },
     "execution_count": 14,
     "metadata": {},
     "output_type": "execute_result"
    },
    {
     "data": {
      "image/png": "[encoded data removed]",
      "text/plain": [
       "<Figure size 432x288 with 1 Axes>"
      ]
     },
     "metadata": {},
     "output_type": "display_data"
    }
   ],
   "source": [
    "import matplotlib.pyplot as plt\n",
    "from matplotlib_venn import venn2\n",
    "\n",
    "venn2([set(['A','B','C','D']),set(['D','E','F'])])"
   ]
  },
  {
   "cell_type": "code",
   "execution_count": null,
   "metadata": {},
   "outputs": [],
   "source": []
  }
 ],
 "metadata": {
  "kernelspec": {
   "display_name": "Python 3",
   "language": "python",
   "name": "python3"
  },
  "language_info": {
   "codemirror_mode": {
    "name": "ipython",
    "version": 3
   },
   "file_extension": ".py",
   "mimetype": "text/x-python",
   "name": "python",
   "nbconvert_exporter": "python",
   "pygments_lexer": "ipython3",
   "version": "3.7.6"
  }
 },
 "nbformat": 4,
 "nbformat_minor": 4
}
