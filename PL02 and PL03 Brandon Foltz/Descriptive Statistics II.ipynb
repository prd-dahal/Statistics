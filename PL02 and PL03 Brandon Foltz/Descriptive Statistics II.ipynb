{
 "cells": [
  {
   "cell_type": "code",
   "execution_count": 1,
   "metadata": {},
   "outputs": [],
   "source": [
    "import numpy as np\n",
    "import pandas as pd\n",
    "from scipy import stats\n",
    "import matplotlib.pyplot as plt\n",
    "import seaborn as sns"
   ]
  },
  {
   "cell_type": "code",
   "execution_count": 6,
   "metadata": {},
   "outputs": [
    {
     "name": "stdout",
     "output_type": "stream",
     "text": [
      "[0.0, 1.414213562373095, -1.414213562373095, -0.7071067811865475, 0.7071067811865475]\n"
     ]
    }
   ],
   "source": [
    "#calculate the z score \n",
    "class_one_score = np.array([85,95,75,80,90])\n",
    "class_two_score = np.array([88,79,91,85,82])\n",
    "# print(np.std(class_one_score))\n",
    "def zscore(x):\n",
    "    z =[]\n",
    "    mean = x.mean()\n",
    "    sd = np.std(x)\n",
    "    \n",
    "    for i in x:\n",
    "        z.append((i-mean)/sd)\n",
    "    return z\n",
    "\n",
    "print(zscore(class_one_score))\n"
   ]
  },
  {
   "cell_type": "code",
   "execution_count": 19,
   "metadata": {},
   "outputs": [
    {
     "data": {
      "text/plain": [
       "<matplotlib.collections.PathCollection at 0x273e5c56f08>"
      ]
     },
     "execution_count": 19,
     "metadata": {},
     "output_type": "execute_result"
    },
    {
     "data": {
      "image/png": "[encoded data removed]",
      "text/plain": [
       "<Figure size 432x288 with 1 Axes>"
      ]
     },
     "metadata": {
      "needs_background": "light"
     },
     "output_type": "display_data"
    }
   ],
   "source": [
    "\n",
    "plt.scatter(class_one_score, np.zeros_like(class_one_score),color='red')\n",
    "\n",
    "plt.scatter(class_two_score,np.zeros_like(class_two_score),color='blue',marker='+')"
   ]
  },
  {
   "cell_type": "code",
   "execution_count": 22,
   "metadata": {},
   "outputs": [
    {
     "ename": "NameError",
     "evalue": "name 'class_one_score' is not defined",
     "output_type": "error",
     "traceback": [
      "\u001b[1;31m---------------------------------------------------------------------------\u001b[0m",
      "\u001b[1;31mNameError\u001b[0m                                 Traceback (most recent call last)",
      "\u001b[1;32m<ipython-input-22-97dfa2f58676>\u001b[0m in \u001b[0;36m<module>\u001b[1;34m\u001b[0m\n\u001b[0;32m     12\u001b[0m    \u001b[1;32mreturn\u001b[0m \u001b[0mstr\u001b[0m\u001b[1;33m(\u001b[0m\u001b[1;33m(\u001b[0m\u001b[0ms\u001b[0m\u001b[1;33m/\u001b[0m\u001b[0mm\u001b[0m\u001b[1;33m)\u001b[0m\u001b[1;33m*\u001b[0m\u001b[1;36m100\u001b[0m\u001b[1;33m)\u001b[0m \u001b[1;33m+\u001b[0m \u001b[1;34m'%'\u001b[0m\u001b[1;33m\u001b[0m\u001b[1;33m\u001b[0m\u001b[0m\n\u001b[0;32m     13\u001b[0m \u001b[1;33m\u001b[0m\u001b[0m\n\u001b[1;32m---> 14\u001b[1;33m \u001b[0mprint\u001b[0m\u001b[1;33m(\u001b[0m\u001b[0msd\u001b[0m\u001b[1;33m(\u001b[0m\u001b[0mclass_one_score\u001b[0m\u001b[1;33m)\u001b[0m\u001b[1;33m)\u001b[0m\u001b[1;33m\u001b[0m\u001b[1;33m\u001b[0m\u001b[0m\n\u001b[0m\u001b[0;32m     15\u001b[0m \u001b[0mprint\u001b[0m\u001b[1;33m(\u001b[0m\u001b[0mcoeff_of_variation\u001b[0m\u001b[1;33m(\u001b[0m\u001b[0mclass_one_score\u001b[0m\u001b[1;33m)\u001b[0m\u001b[1;33m)\u001b[0m\u001b[1;33m\u001b[0m\u001b[1;33m\u001b[0m\u001b[0m\n\u001b[0;32m     16\u001b[0m \u001b[0mprint\u001b[0m\u001b[1;33m(\u001b[0m\u001b[0msd\u001b[0m\u001b[1;33m(\u001b[0m\u001b[0mclass_two_score\u001b[0m\u001b[1;33m)\u001b[0m\u001b[1;33m)\u001b[0m\u001b[1;33m\u001b[0m\u001b[1;33m\u001b[0m\u001b[0m\n",
      "\u001b[1;31mNameError\u001b[0m: name 'class_one_score' is not defined"
     ]
    }
   ],
   "source": [
    " #standard deviation-> how fat is each data point from the mean\n",
    "def sd(x):\n",
    "    sd = 0 \n",
    "    mean = x.mean()\n",
    "    \n",
    "    for i in x:\n",
    "        sd = sd + (i-mean)**2\n",
    "    return np.sqrt(sd/(len(x)-1))\n",
    "def coeff_of_variation(x):\n",
    "    s = sd(x)\n",
    "    m = x.mean()\n",
    "    return str((s/m)*100) + '%'  \n",
    "\n",
    "print(sd(class_one_score))\n",
    "print(coeff_of_variation(class_one_score))\n",
    "print(sd(class_two_score))\n",
    "print(coeff_of_variation(class_two_score))\n",
    "#print(np.std(class_one_score)) # Built in method divided the summation(x-x_Bar) by n only\n"
   ]
  },
  {
   "cell_type": "markdown",
   "metadata": {},
   "source": [
    " ## Co-variance\n",
    " \n",
    " "
   ]
  },
  {
   "cell_type": "code",
   "execution_count": null,
   "metadata": {},
   "outputs": [],
   "source": []
  },
  {
   "cell_type": "code",
   "execution_count": 18,
   "metadata": {},
   "outputs": [],
   "source": [
    "def covariance(x,y, sample=True):\n",
    "    x = np.array(x)\n",
    "    y = np.array(y)\n",
    "    x_mean = x.mean()\n",
    "    y_mean = y.mean()\n",
    "#     print(x-x_mean)\n",
    "#     print(y-y_mean)\n",
    "    s = (x-x_mean) * (y-y_mean)\n",
    "#     print(s)\n",
    "    s = s.sum()\n",
    "#     print(s)\n",
    "    if sample==True:\n",
    "        return s/(len(x)-1) # one is subtracted in case of sample data\n",
    "    if sample==False:\n",
    "        return s/len(x) \n",
    "    \n",
    "\n"
   ]
  },
  {
   "cell_type": "code",
   "execution_count": 21,
   "metadata": {},
   "outputs": [
    {
     "name": "stdout",
     "output_type": "stream",
     "text": [
      "962.4\n",
      "106.93333333333334\n"
     ]
    },
    {
     "data": {
      "text/plain": [
       "<matplotlib.collections.PathCollection at 0x1aa165cadc8>"
      ]
     },
     "execution_count": 21,
     "metadata": {},
     "output_type": "execute_result"
    },
    {
     "data": {
      "image/png": "[encoded data removed]",
      "text/plain": [
       "<Figure size 432x288 with 1 Axes>"
      ]
     },
     "metadata": {
      "needs_background": "light"
     },
     "output_type": "display_data"
    }
   ],
   "source": [
    "number_of_workers = [12,30,15,24,14,18,28,26,19,27] \n",
    "number_of_table = [20,60,27,50,21,30,61,54,32,57]\n",
    "# print(len(number_of_workers))\n",
    "# print(len(number_of_table))\n",
    "\n",
    "print(covariance(number_of_workers, number_of_table, sample=True))\n",
    "plt.scatter(number_of_workers, number_of_table)"
   ]
  },
  {
   "cell_type": "markdown",
   "metadata": {},
   "source": [
    "### Co Variance Matrix"
   ]
  },
  {
   "cell_type": "code",
   "execution_count": null,
   "metadata": {},
   "outputs": [],
   "source": []
  }
 ],
 "metadata": {
  "kernelspec": {
   "display_name": "Python 3",
   "language": "python",
   "name": "python3"
  },
  "language_info": {
   "codemirror_mode": {
    "name": "ipython",
    "version": 3
   },
   "file_extension": ".py",
   "mimetype": "text/x-python",
   "name": "python",
   "nbconvert_exporter": "python",
   "pygments_lexer": "ipython3",
   "version": "3.7.6"
  }
 },
 "nbformat": 4,
 "nbformat_minor": 4
}
