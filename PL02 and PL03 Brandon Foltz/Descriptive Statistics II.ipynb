{
 "cells": [
  {
   "cell_type": "code",
   "execution_count": 1,
   "metadata": {},
   "outputs": [],
   "source": [
    "import numpy as np\n",
    "import pandas as pd\n",
    "from scipy import stats\n",
    "import matplotlib.pyplot as plt\n",
    "import seaborn as sns"
   ]
  },
  {
   "cell_type": "code",
   "execution_count": 6,
   "metadata": {},
   "outputs": [
    {
     "name": "stdout",
     "output_type": "stream",
     "text": [
      "[0.0, 1.414213562373095, -1.414213562373095, -0.7071067811865475, 0.7071067811865475]\n"
     ]
    }
   ],
   "source": [
    "#calculate the z score \n",
    "class_one_score = np.array([85,95,75,80,90])\n",
    "class_two_score = np.array([88,79,91,85,82])\n",
    "# print(np.std(class_one_score))\n",
    "def zscore(x):\n",
    "    z =[]\n",
    "    mean = x.mean()\n",
    "    sd = np.std(x)\n",
    "    \n",
    "    for i in x:\n",
    "        z.append((i-mean)/sd)\n",
    "    return z\n",
    "\n",
    "print(zscore(class_one_score))\n"
   ]
  },
  {
   "cell_type": "code",
   "execution_count": 19,
   "metadata": {},
   "outputs": [
    {
     "data": {
      "text/plain": [
       "<matplotlib.collections.PathCollection at 0x273e5c56f08>"
      ]
     },
     "execution_count": 19,
     "metadata": {},
     "output_type": "execute_result"
    },
    {
     "data": {
      "image/png": "[encoded data removed]",
      "text/plain": [
       "<Figure size 432x288 with 1 Axes>"
      ]
     },
     "metadata": {
      "needs_background": "light"
     },
     "output_type": "display_data"
    }
   ],
   "source": [
    "\n",
    "plt.scatter(class_one_score, np.zeros_like(class_one_score),color='red')\n",
    "\n",
    "plt.scatter(class_two_score,np.zeros_like(class_two_score),color='blue',marker='+')"
   ]
  },
  {
   "cell_type": "code",
   "execution_count": 36,
   "metadata": {},
   "outputs": [
    {
     "name": "stdout",
     "output_type": "stream",
     "text": [
      "7.905694150420948\n",
      "9.300816647554058%\n",
      "4.743416490252569\n",
      "5.580489988532434%\n"
     ]
    }
   ],
   "source": [
    " #standard deviation-> how fat is each data point from the mean\n",
    "def sd(x):\n",
    "    sd = 0 \n",
    "    mean = x.mean()\n",
    "    \n",
    "    for i in x:\n",
    "        sd = sd + (i-mean)**2\n",
    "    return np.sqrt(sd/(len(x)-1))\n",
    "def coeff_of_variation(x):\n",
    "    s = sd(x)\n",
    "    m = x.mean()\n",
    "    return str((s/m)*100) + '%'  \n",
    "\n",
    "print(sd(class_one_score))\n",
    "print(coeff_of_variation(class_one_score))\n",
    "print(sd(class_two_score))\n",
    "print(coeff_of_variation(class_two_score))\n",
    "#print(np.std(class_one_score)) # Built in method divided the summation(x-x_Bar) by n only\n"
   ]
  },
  {
   "cell_type": "code",
   "execution_count": null,
   "metadata": {},
   "outputs": [],
   "source": [
    " "
   ]
  }
 ],
 "metadata": {
  "kernelspec": {
   "display_name": "Python 3",
   "language": "python",
   "name": "python3"
  },
  "language_info": {
   "codemirror_mode": {
    "name": "ipython",
    "version": 3
   },
   "file_extension": ".py",
   "mimetype": "text/x-python",
   "name": "python",
   "nbconvert_exporter": "python",
   "pygments_lexer": "ipython3",
   "version": "3.7.6"
  }
 },
 "nbformat": 4,
 "nbformat_minor": 4
}
