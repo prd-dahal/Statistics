{
 "cells": [
  {
   "cell_type": "code",
   "execution_count": 1,
   "metadata": {},
   "outputs": [],
   "source": [
    "import numpy as np\n",
    "import pandas as pd\n",
    "from scipy import stats\n",
    "import matplotlib.pyplot as plt\n",
    "import seaborn as sns"
   ]
  },
  {
   "cell_type": "code",
   "execution_count": 6,
   "metadata": {},
   "outputs": [
    {
     "name": "stdout",
     "output_type": "stream",
     "text": [
      "[0.0, 1.414213562373095, -1.414213562373095, -0.7071067811865475, 0.7071067811865475]\n"
     ]
    }
   ],
   "source": [
    "#calculate the z score \n",
    "class_one_score = np.array([85,95,75,80,90])\n",
    "class_two_score = np.array([88,79,91,85,82])\n",
    "# print(np.std(class_one_score))\n",
    "def zscore(x):\n",
    "    z =[]\n",
    "    mean = x.mean()\n",
    "    sd = np.std(x)\n",
    "    \n",
    "    for i in x:\n",
    "        z.append((i-mean)/sd)\n",
    "    return z\n",
    "\n",
    "print(zscore(class_one_score))\n"
   ]
  },
  {
   "cell_type": "code",
   "execution_count": null,
   "metadata": {},
   "outputs": [],
   "source": []
  }
 ],
 "metadata": {
  "kernelspec": {
   "display_name": "Python 3",
   "language": "python",
   "name": "python3"
  },
  "language_info": {
   "codemirror_mode": {
    "name": "ipython",
    "version": 3
   },
   "file_extension": ".py",
   "mimetype": "text/x-python",
   "name": "python",
   "nbconvert_exporter": "python",
   "pygments_lexer": "ipython3",
   "version": "3.7.6"
  }
 },
 "nbformat": 4,
 "nbformat_minor": 4
}
